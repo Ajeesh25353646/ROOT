{
 "cells": [
  {
   "cell_type": "code",
   "execution_count": 19,
   "id": "5630bd7f-191e-429a-933e-7095c630ef07",
   "metadata": {},
   "outputs": [],
   "source": [
    "import ROOT\n",
    "from array import array\n",
    "import numpy as np"
   ]
  },
  {
   "cell_type": "code",
   "execution_count": 20,
   "id": "c62d64fc-9c6b-4189-8e12-97a1112e38a9",
   "metadata": {},
   "outputs": [],
   "source": [
    "def makeTH1(trnd):\n",
    "    hh = ROOT.TH1D(\"hh\", \"hh\", 25, -10, 10)\n",
    "    for value in [trnd.Gaus(0, 3) for _ in range(100)]:\n",
    "        hh.Fill(value)  # Fill the histogram one value at a time\n",
    "    return hh\n",
    "\n",
    "\n",
    "def makeTTree(trnd):\n",
    "    tree = ROOT.TTree(\"tree\", \"tree\")\n",
    "    px = array(\"d\", [0])\n",
    "    py = array(\"d\", [0])\n",
    "    tree.Branch(\"x\", px, \"x/D\")\n",
    "    tree.Branch(\"y\", py, \"y/D\")\n",
    "    for i in range(100):\n",
    "        px[0] = trnd.Gaus(0,3)\n",
    "        py[0] = trnd.Uniform()* 30 -15\n",
    "        tree.Fill()\n",
    "    return tree\n",
    "\n"
   ]
  },
  {
   "cell_type": "code",
   "execution_count": 21,
   "id": "6de909b9-157f-45b0-bb34-c1eb6c401091",
   "metadata": {},
   "outputs": [],
   "source": [
    "trnd = ROOT.TRandom3()"
   ]
  },
  {
   "cell_type": "code",
   "execution_count": 22,
   "id": "1bb80896-4386-4b08-b952-cb9414c5eec8",
   "metadata": {},
   "outputs": [
    {
     "name": "stderr",
     "output_type": "stream",
     "text": [
      "Warning in <TROOT::Append>: Replacing existing TH1: hh (Potential memory leak).\n"
     ]
    }
   ],
   "source": [
    "hh = makeTH1(trnd)\n",
    "\n",
    "x = ROOT.RooRealVar(\"x\", \"x\", -10, 10)\n",
    "dh = ROOT.RooDataHist(\"dh\", \"dh\", [x], Import=hh)"
   ]
  },
  {
   "cell_type": "code",
   "execution_count": 17,
   "id": "aeb06c37-6d76-454c-a23c-399bc0262d56",
   "metadata": {},
   "outputs": [
    {
     "data": {
      "text/plain": [
       "<cppyy.gbl.RooPlot object at 0x55c6d9e83c00>"
      ]
     },
     "execution_count": 17,
     "metadata": {},
     "output_type": "execute_result"
    }
   ],
   "source": [
    "frame = x.frame(Title=\"Imported ROOT.TH! with Poisson error bars\")\n",
    "dh.plotOn(frame)"
   ]
  },
  {
   "cell_type": "code",
   "execution_count": 18,
   "id": "5f94f5ec-dbbb-44b0-96b7-fed2a2ec289b",
   "metadata": {},
   "outputs": [
    {
     "ename": "AttributeError",
     "evalue": "Failed to get attribute ROORealVar from ROOT",
     "output_type": "error",
     "traceback": [
      "\u001b[0;31m---------------------------------------------------------------------------\u001b[0m",
      "\u001b[0;31mAttributeError\u001b[0m                            Traceback (most recent call last)",
      "Cell \u001b[0;32mIn[18], line 1\u001b[0m\n\u001b[0;32m----> 1\u001b[0m mean \u001b[38;5;241m=\u001b[39m \u001b[43mROOT\u001b[49m\u001b[38;5;241;43m.\u001b[39;49m\u001b[43mROORealVar\u001b[49m(\u001b[38;5;124m\"\u001b[39m\u001b[38;5;124mmean\u001b[39m\u001b[38;5;124m\"\u001b[39m, \u001b[38;5;124m\"\u001b[39m\u001b[38;5;124mmean\u001b[39m\u001b[38;5;124m\"\u001b[39m, \u001b[38;5;241m0\u001b[39m, \u001b[38;5;241m-\u001b[39m\u001b[38;5;241m10\u001b[39m, \u001b[38;5;241m10\u001b[39m)\n\u001b[1;32m      2\u001b[0m sigma \u001b[38;5;241m=\u001b[39m ROOT\u001b[38;5;241m.\u001b[39mRooRealVar(\u001b[38;5;124m\"\u001b[39m\u001b[38;5;124msigma\u001b[39m\u001b[38;5;124m\"\u001b[39m, \u001b[38;5;124m\"\u001b[39m\u001b[38;5;124msigma\u001b[39m\u001b[38;5;124m\"\u001b[39m, \u001b[38;5;241m3\u001b[39m, \u001b[38;5;241m0.1\u001b[39m, \u001b[38;5;241m10\u001b[39m)\n\u001b[1;32m      3\u001b[0m gauss \u001b[38;5;241m=\u001b[39m ROOT\u001b[38;5;241m.\u001b[39mproGaussian(\u001b[38;5;124m\"\u001b[39m\u001b[38;5;124mGauss\u001b[39m\u001b[38;5;124m\"\u001b[39m, \u001b[38;5;124m\"\u001b[39m\u001b[38;5;124mgauss\u001b[39m\u001b[38;5;124m\"\u001b[39m, x, mean, sigma)\n",
      "File \u001b[0;32m~/root/lib/ROOT/_facade.py:162\u001b[0m, in \u001b[0;36mROOTFacade._fallback_getattr\u001b[0;34m(self, name)\u001b[0m\n\u001b[1;32m    160\u001b[0m     \u001b[38;5;28;01mif\u001b[39;00m res:\n\u001b[1;32m    161\u001b[0m         \u001b[38;5;28;01mreturn\u001b[39;00m res\n\u001b[0;32m--> 162\u001b[0m \u001b[38;5;28;01mraise\u001b[39;00m \u001b[38;5;167;01mAttributeError\u001b[39;00m(\u001b[38;5;124m\"\u001b[39m\u001b[38;5;124mFailed to get attribute \u001b[39m\u001b[38;5;132;01m{}\u001b[39;00m\u001b[38;5;124m from ROOT\u001b[39m\u001b[38;5;124m\"\u001b[39m\u001b[38;5;241m.\u001b[39mformat(name))\n",
      "\u001b[0;31mAttributeError\u001b[0m: Failed to get attribute ROORealVar from ROOT"
     ]
    }
   ],
   "source": [
    "mean = ROOT.ROORealVar(\"mean\", \"mean\", 0, -10, 10)\n",
    "sigma = ROOT.RooRealVar(\"sigma\", \"sigma\", 3, 0.1, 10)\n",
    "gauss = ROOT.proGaussian(\"Gauss\", \"gauss\", x, mean, sigma)\n",
    "gauss.fitTo(dh)\n",
    "gauss.plotOn(frame)"
   ]
  },
  {
   "cell_type": "code",
   "execution_count": null,
   "id": "99dd674a-d0b2-428f-b4dc-e6a3fea528ca",
   "metadata": {},
   "outputs": [],
   "source": [
    "frame2 = x.frame(Title = \"Imported ROOT.TH1 with internal errors\")\n",
    "dh.plotOn(frame2, DataError=\"SumW2\")\n",
    "gauss.plotOn(frame2)"
   ]
  },
  {
   "cell_type": "code",
   "execution_count": null,
   "id": "e0dd24f3-72bd-4878-9b74-b7bd92c703df",
   "metadata": {},
   "outputs": [],
   "source": []
  },
  {
   "cell_type": "code",
   "execution_count": null,
   "id": "6a94e9b3-5dbe-4c02-ad94-e923a993d6b2",
   "metadata": {},
   "outputs": [],
   "source": []
  },
  {
   "cell_type": "code",
   "execution_count": null,
   "id": "2e54a838-ddd2-4d9d-8957-d16219b0ab9c",
   "metadata": {},
   "outputs": [],
   "source": []
  }
 ],
 "metadata": {
  "kernelspec": {
   "display_name": "Python 3 (ipykernel)",
   "language": "python",
   "name": "python3"
  },
  "language_info": {
   "codemirror_mode": {
    "name": "ipython",
    "version": 3
   },
   "file_extension": ".py",
   "mimetype": "text/x-python",
   "name": "python",
   "nbconvert_exporter": "python",
   "pygments_lexer": "ipython3",
   "version": "3.10.12"
  }
 },
 "nbformat": 4,
 "nbformat_minor": 5
}
