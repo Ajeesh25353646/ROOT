{
 "cells": [
  {
   "cell_type": "code",
   "execution_count": 1,
   "id": "5630bd7f-191e-429a-933e-7095c630ef07",
   "metadata": {},
   "outputs": [],
   "source": [
    "import ROOT\n",
    "from array import array\n",
    "import numpy as np"
   ]
  },
  {
   "cell_type": "code",
   "execution_count": 2,
   "id": "c62d64fc-9c6b-4189-8e12-97a1112e38a9",
   "metadata": {},
   "outputs": [],
   "source": [
    "def makeTH1(trnd):\n",
    "    hh = ROOT.THID(\"hh\", \"hh\", 25, -10, 10)\n",
    "    hh.Fill(np.array([trnd.Gaus(0,3) for _ in range(100)]))\n",
    "    return hh\n",
    "\n",
    "\n",
    "def makeTTree(trnd):\n",
    "    tree = ROOT.TTree(\"tree\", \"tree\")\n",
    "    px = array(\"d\", [0])\n",
    "    py = array(\"d\", [0])\n",
    "    tree.Branch(\"x\", px, \"x/D\")\n",
    "    tree.Branch(\"y\", py, \"y/D\")\n",
    "    for i in range(100):\n",
    "        px[0] = trnd.Gaus(0,3)\n",
    "        py[0] = trnd.Uniform()* 30 -15\n",
    "        tree.Fill()\n",
    "    return tree\n",
    "\n"
   ]
  },
  {
   "cell_type": "code",
   "execution_count": null,
   "id": "6de909b9-157f-45b0-bb34-c1eb6c401091",
   "metadata": {},
   "outputs": [],
   "source": []
  }
 ],
 "metadata": {
  "kernelspec": {
   "display_name": "Python 3 (ipykernel)",
   "language": "python",
   "name": "python3"
  },
  "language_info": {
   "codemirror_mode": {
    "name": "ipython",
    "version": 3
   },
   "file_extension": ".py",
   "mimetype": "text/x-python",
   "name": "python",
   "nbconvert_exporter": "python",
   "pygments_lexer": "ipython3",
   "version": "3.10.12"
  }
 },
 "nbformat": 4,
 "nbformat_minor": 5
}
