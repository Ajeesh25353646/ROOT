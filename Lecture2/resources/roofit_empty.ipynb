{
 "cells": [
  {
   "cell_type": "code",
   "execution_count": 2,
   "id": "ac0e5e9b-c7eb-46be-90c3-dd1cefb16007",
   "metadata": {},
   "outputs": [
    {
     "name": "stdout",
     "output_type": "stream",
     "text": [
      "6.34.00\n"
     ]
    }
   ],
   "source": [
    "import ROOT\n",
    "print(ROOT.__version__)\n",
    "\n",
    "# why it matters? because Note: RooMinuit is replaced by RooMinimizer starting from ROOT v6.30"
   ]
  },
  {
   "cell_type": "code",
   "execution_count": 29,
   "id": "9525a105-ef5b-4475-ba23-ec5c50e3113d",
   "metadata": {},
   "outputs": [],
   "source": [
    "x = ROOT.RooRealVar(\"x\", \"x\", -20, 20)\n",
    "mean = ROOT.RooRealVar(\"mean\", \"mean\", 0)\n",
    "s1 = ROOT.RooRealVar(\"s1\", \"sigma\", 3.3)  # taken my matriculation number randomly as 3\n",
    "s2 = ROOT.RooRealVar(\"s2\", \"sigma\", 4, 3, 6)\n",
    "f = ROOT.RooRealVar(\"f\", \"coefficient\", 0.5, 0.3, 1)"
   ]
  },
  {
   "cell_type": "code",
   "execution_count": 30,
   "id": "def9a07d-1dae-4e63-9d97-a67c5cd93c08",
   "metadata": {},
   "outputs": [
    {
     "name": "stdout",
     "output_type": "stream",
     "text": [
      "[#0] WARNING:InputArguments -- The parameter 's1' with range [-inf, inf] of the RooGaussian 'gaus1' exceeds the safe range of (0, inf). Advise to limit its range.\n"
     ]
    }
   ],
   "source": [
    "# Generate a dataset\n",
    "# Composite Model: The sum of two Gaussians: f⋅gaus1(..)+(1−f)⋅gaus2(..) \n",
    "\n",
    "# Gaussian Model 1\n",
    "gauss1 = ROOT.RooGaussian(\"gaus1\", \"gaussian dist1\", x, mean, s1)\n",
    "\n",
    "# Gaussian Model 2\n",
    "gauss2 = ROOT.RooGaussian(\"gaus2\", \"gaussian dist2\", x, mean, s2)\n",
    "\n",
    "model = ROOT.RooAddPdf(\"m\", \"m\", ROOT.RooArgList(gauss1, gauss2), ROOT.RooArgList(f))\n",
    "\n",
    "\n",
    "# Generate dataset\n",
    "data = model.generate({x}, 1000)"
   ]
  },
  {
   "cell_type": "markdown",
   "id": "721add66-84fc-4cbf-b854-a7485ffee18e",
   "metadata": {},
   "source": [
    "Create workspace and save the model"
   ]
  },
  {
   "cell_type": "code",
   "execution_count": 34,
   "id": "c2e13002-6674-4df3-8d2e-279788c4649b",
   "metadata": {},
   "outputs": [
    {
     "data": {
      "text/plain": [
       "False"
      ]
     },
     "execution_count": 34,
     "metadata": {},
     "output_type": "execute_result"
    },
    {
     "name": "stdout",
     "output_type": "stream",
     "text": [
      "[#1] INFO:ObjectHandling -- RooWorkspace::import(w) importing RooAddPdf::m\n",
      "[#1] INFO:ObjectHandling -- RooWorkspace::import(w) importing RooGaussian::gaus1\n",
      "[#1] INFO:ObjectHandling -- RooWorkspace::import(w) importing RooRealVar::x\n",
      "[#1] INFO:ObjectHandling -- RooWorkspace::import(w) importing RooRealVar::mean\n",
      "[#1] INFO:ObjectHandling -- RooWorkspace::import(w) importing RooRealVar::s1\n",
      "[#1] INFO:ObjectHandling -- RooWorkspace::import(w) importing RooRealVar::f\n",
      "[#1] INFO:ObjectHandling -- RooWorkspace::import(w) importing RooGaussian::gaus2\n",
      "[#1] INFO:ObjectHandling -- RooWorkspace::import(w) importing RooRealVar::s2\n",
      "[#1] INFO:ObjectHandling -- RooWorkspace::import(w) importing dataset mData\n"
     ]
    }
   ],
   "source": [
    "w = ROOT.RooWorkspace(\"w\", \"workspace\")\n",
    "\n",
    "# Import model and data into the workshape\n",
    "w.Import(model)\n",
    "w.Import(data)\n",
    "\n",
    "# save the data to file\n",
    "w.writeToFile(\"/mnt/d/OneDrive - Alma Mater Studiorum Università di Bologna/ROOT/Lecture2/output/workshape_model1.root\")"
   ]
  },
  {
   "cell_type": "code",
   "execution_count": 35,
   "id": "f5bc7129-8223-43d3-aa79-ab3d0d51a1d4",
   "metadata": {},
   "outputs": [
    {
     "name": "stdout",
     "output_type": "stream",
     "text": [
      "[#1] INFO:Fitting -- RooAbsPdf::fitTo(m) fixing normalization set for coefficient determination to observables in data\n",
      "[#1] INFO:Fitting -- RooAddition::defaultErrorLevel(nll_m_mData) Summation contains a RooNLLVar, using its error level\n"
     ]
    }
   ],
   "source": [
    "# Construct unbinned likelihood -log(L) of PDF with given dataset\n",
    "neg_log_likelihood = model.createNLL(data)\n",
    "\n",
    "# Pass the likelihood directly to a RooMinuit object\n",
    "minute_obj = ROOT.RooMinimizer(neg_log_likelihood)"
   ]
  },
  {
   "cell_type": "raw",
   "id": "5e354d89-cb44-47f3-91bd-c6e28f25e9f9",
   "metadata": {},
   "source": [
    "# enable verbose mode to see parameter space stepping (minute step) \n",
    "minute_obj.setVerbose(True)\n",
    "\n",
    "# method migrad to minimise this likelihood\n",
    "minute_obj.migrad()\n",
    "\n",
    "# Display the values of parameters\n",
    "f.Print()\n",
    "mean.Print()\n",
    "s1.Print()\n",
    "s2.Print()"
   ]
  },
  {
   "cell_type": "markdown",
   "id": "743ad475-c066-4223-b479-ce68d19fc2e5",
   "metadata": {},
   "source": [
    "HESSE Error Calculation "
   ]
  },
  {
   "cell_type": "code",
   "execution_count": 40,
   "id": "3809010a-9f4a-4cb3-9541-fc6b238a2ff7",
   "metadata": {},
   "outputs": [
    {
     "data": {
      "text/plain": [
       "0"
      ]
     },
     "execution_count": 40,
     "metadata": {},
     "output_type": "execute_result"
    },
    {
     "name": "stderr",
     "output_type": "stream",
     "text": [
      "Info in <Minuit2>: Minuit2Minimizer::Hesse Using max-calls 1000\n",
      "Info in <Minuit2>: Minuit2Minimizer::Hesse Hesse is valid - matrix is accurate\n"
     ]
    }
   ],
   "source": [
    "# Disable verbose mode\n",
    "minute_obj.setVerbose(False)\n",
    "\n",
    "# Running HESSE to calculate errors d2L/dp2\n",
    "minute_obj.hesse()\n",
    "\n",
    "# Display the values of parameters\n",
    "f.Print()\n",
    "mean.Print()\n",
    "s1.Print()\n",
    "s2.Print()"
   ]
  },
  {
   "cell_type": "markdown",
   "id": "7f782ccc-1aff-40f7-b92c-dce79ffa722e",
   "metadata": {},
   "source": [
    "MINOS Error Calculation for “s2”"
   ]
  },
  {
   "cell_type": "code",
   "execution_count": 42,
   "id": "6bc393f4-73af-483c-8fad-89963630eea5",
   "metadata": {},
   "outputs": [
    {
     "name": "stdout",
     "output_type": "stream",
     "text": [
      "******************************************************************************************************\n",
      "Minuit2Minimizer::GetMinosError - Run MINOS LOWER error for parameter #1 : s2 using max-calls 1000, tolerance 1\n",
      "******************************************************************************************************\n",
      "Minuit2Minimizer::GetMinosError - Run MINOS UPPER error for parameter #1 : s2 using max-calls 1000, tolerance 1\n",
      "Minos: Lower error for parameter s2  :  -0.1095\n",
      "Minos: Upper error for parameter s2  :  0.6407\n",
      "RooRealVar::f = 0.3 +/- 0.35  L(0.3 - 1) \n",
      "RooRealVar::mean = 0 C  L(-INF - +INF) \n",
      "RooRealVar::s1 = 3.3 C  L(-INF - +INF) \n",
      "RooRealVar::s2 = 3.652 +/- (-0.1095,0.6407)  L(3 - 6) \n"
     ]
    },
    {
     "name": "stderr",
     "output_type": "stream",
     "text": [
      "Info in <Minuit2>: MnMinos Determination of lower Minos error for parameter 1\n",
      "Info in <Minuit2>: MnFunctionCross Run Migrad with fixed parameters:\n",
      "  Pos 1: s2 = 3.37403\n",
      "Info in <Minuit2>: MnSeedGenerator Computing seed using NumericalGradient calculator\n",
      "Info in <Minuit2>: MnSeedGenerator Initial state: FCN =       2689.537509 Edm =      0.6231005705 NCalls =      3\n",
      "Info in <Minuit2>: MnSeedGenerator Initial state  \n",
      "  Minimum value : 2689.537509\n",
      "  Edm           : 0.6231005705\n",
      "  Internal parameters:\t[     -1.081240494]\t\n",
      "  Internal gradient  :\t[     0.4483037391]\t\n",
      "  Internal covariance matrix:\n",
      "[[      12.401477]]]\n",
      "Info in <Minuit2>: VariableMetricBuilder Start iterating until Edm is < 0.0005 with call limit = 1000\n",
      "Info in <Minuit2>: VariableMetricBuilder    0 - FCN =       2689.537509 Edm =      0.6231005705 NCalls =      3\n",
      "Info in <Minuit2>: VariableMetricBuilder    1 - FCN =       2689.431956 Edm =     0.03131254061 NCalls =      7\n",
      "Info in <Minuit2>: VariableMetricBuilder    2 - FCN =       2689.426553 Edm =   1.597334455e-06 NCalls =     10\n",
      "Info in <Minuit2>: MnFunctionCross Result after Migrad FCN =       2689.426553 Edm =   1.597334455e-06 NCalls =     10 \n",
      "  Pos |    Name    |  type   |      Value       |    Error +/-\n",
      "    0 |          f | limited |     0.3000005868 |  0.435271056\n",
      "    1 |         s2 |  fixed  |      3.374033499 | 0.2783063939\n",
      "Info in <Minuit2>: MnFunctionCross Run Migrad again (2nd) with fixed parameters:\n",
      "  Pos 1: s2 = 3.51319\n",
      "Info in <Minuit2>: MnSeedGenerator Computing seed using NumericalGradient calculator\n",
      "Info in <Minuit2>: MnSeedGenerator Initial state: FCN =       2686.818158 Edm =   2.793609223e-06 NCalls =      3\n",
      "Info in <Minuit2>: MnSeedGenerator Initial state  \n",
      "  Minimum value : 2686.818158\n",
      "  Edm           : 2.793609223e-06\n",
      "  Internal parameters:\t[     -1.568965123]\t\n",
      "  Internal gradient  :\t[   0.002285430968]\t\n",
      "  Internal covariance matrix:\n",
      "[[      2.1393874]]]\n",
      "Info in <Minuit2>: VariableMetricBuilder Start iterating until Edm is < 0.0005 with call limit = 1000\n",
      "Info in <Minuit2>: VariableMetricBuilder    0 - FCN =       2686.818158 Edm =   2.793609223e-06 NCalls =      3\n",
      "Info in <Minuit2>: VariableMetricBuilder    1 - FCN =       2686.818156 Edm =   4.386322283e-14 NCalls =      7\n",
      "Info in <Minuit2>: MnFunctionCross Result after 2nd Migrad FCN =       2686.818156 Edm =   4.386322283e-14 NCalls =      7 \n",
      "  Pos |    Name    |  type   |      Value       |    Error +/-\n",
      "    0 |          f | limited |              0.3 |  0.131102892 (at lower limit)\n",
      "    1 |         s2 |  fixed  |      3.513186696 | 0.2783063939\n",
      "Info in <Minuit2>: MnFunctionCross Run Migrad again (3rd) with fixed parameters:\n",
      "  Pos 1: s2 = 3.5301\n",
      "Info in <Minuit2>: MnSeedGenerator Computing seed using NumericalGradient calculator\n",
      "Info in <Minuit2>: MnSeedGenerator Initial state: FCN =       2686.627258 Edm =   2.104836843e-06 NCalls =      5\n",
      "Info in <Minuit2>: MnSeedGenerator Initial state  \n",
      "  Minimum value : 2686.627258\n",
      "  Edm           : 2.104836843e-06\n",
      "  Internal parameters:\t[     -1.568843202]\t\n",
      "  Internal gradient  :\t[   0.002292133572]\t\n",
      "  Internal covariance matrix:\n",
      "[[       1.602502]]]\n",
      "Info in <Minuit2>: VariableMetricBuilder Start iterating until Edm is < 0.0005 with call limit = 1000\n",
      "Info in <Minuit2>: VariableMetricBuilder    0 - FCN =       2686.627258 Edm =   2.104836843e-06 NCalls =      5\n",
      "Info in <Minuit2>: VariableMetricBuilder    1 - FCN =       2686.627255 Edm =   3.334743126e-13 NCalls =      9\n",
      "Info in <Minuit2>: MnFunctionCross Result after Migrad (3rd): FCN =       2686.627255 Edm =   3.334743126e-13 NCalls =      9 \n",
      "  Pos |    Name    |  type   |      Value       |    Error +/-\n",
      "    0 |          f | limited |              0.3 | 0.1388249998 (at lower limit)\n",
      "    1 |         s2 |  fixed  |      3.530103005 | 0.2783063939\n",
      "Info in <Minuit2>: MnFunctionCross Run Migrad again (3rd) with fixed parameters:\n",
      "  Pos 1: s2 = 3.54129\n",
      "Info in <Minuit2>: MnSeedGenerator Computing seed using NumericalGradient calculator\n",
      "Info in <Minuit2>: MnSeedGenerator Initial state: FCN =        2686.51543 Edm =   2.010700686e-06 NCalls =      5\n",
      "Info in <Minuit2>: MnSeedGenerator Initial state  \n",
      "  Minimum value : 2686.51543\n",
      "  Edm           : 2.010700686e-06\n",
      "  Internal parameters:\t[     -1.568843202]\t\n",
      "  Internal gradient  :\t[   0.002172419299]\t\n",
      "  Internal covariance matrix:\n",
      "[[      1.7041982]]]\n",
      "Info in <Minuit2>: VariableMetricBuilder Start iterating until Edm is < 0.0005 with call limit = 1000\n",
      "Info in <Minuit2>: VariableMetricBuilder    0 - FCN =        2686.51543 Edm =   2.010700686e-06 NCalls =      5\n",
      "Info in <Minuit2>: VariableMetricBuilder    1 - FCN =       2686.515428 Edm =   5.092756984e-13 NCalls =      9\n",
      "Info in <Minuit2>: MnFunctionCross Result after Migrad (3rd): FCN =       2686.515428 Edm =   5.092756984e-13 NCalls =      9 \n",
      "  Pos |    Name    |  type   |      Value       |    Error +/-\n",
      "    0 |          f | limited |              0.3 | 0.1458946017 (at lower limit)\n",
      "    1 |         s2 |  fixed  |      3.541285313 | 0.2783063939\n",
      "Info in <Minuit2>: MnFunctionCross Run Migrad again (3rd) with fixed parameters:\n",
      "  Pos 1: s2 = 3.54272\n",
      "Info in <Minuit2>: MnSeedGenerator Computing seed using NumericalGradient calculator\n",
      "Info in <Minuit2>: MnSeedGenerator Initial state: FCN =       2686.501887 Edm =   2.088985365e-06 NCalls =      5\n",
      "Info in <Minuit2>: MnSeedGenerator Initial state  \n",
      "  Minimum value : 2686.501887\n",
      "  Edm           : 2.088985365e-06\n",
      "  Internal parameters:\t[     -1.568843202]\t\n",
      "  Internal gradient  :\t[   0.002155705867]\t\n",
      "  Internal covariance matrix:\n",
      "[[      1.7981105]]]\n",
      "Info in <Minuit2>: VariableMetricBuilder Start iterating until Edm is < 0.0005 with call limit = 1000\n",
      "Info in <Minuit2>: VariableMetricBuilder    0 - FCN =       2686.501887 Edm =   2.088985365e-06 NCalls =      5\n",
      "Info in <Minuit2>: VariableMetricBuilder    1 - FCN =       2686.501885 Edm =   1.236454424e-10 NCalls =      8\n",
      "Info in <Minuit2>: MnFunctionCross Result after Migrad (3rd): FCN =       2686.501885 Edm =   1.236454424e-10 NCalls =      8 \n",
      "  Pos |    Name    |  type   |      Value       |    Error +/-\n",
      "    0 |          f | limited |              0.3 | 0.1469390469 (at lower limit)\n",
      "    1 |         s2 |  fixed  |      3.542721791 | 0.2783063939\n",
      "Info in <Minuit2>: MnMinos end of Minos scan for low interval for parameter s2\n",
      "Info in <Minuit2>: MnMinos Determination of upper Minos error for parameter 1\n",
      "Info in <Minuit2>: MnFunctionCross Run Migrad with fixed parameters:\n",
      "  Pos 1: s2 = 3.93065\n",
      "Info in <Minuit2>: MnSeedGenerator Computing seed using NumericalGradient calculator\n",
      "Info in <Minuit2>: MnSeedGenerator Initial state: FCN =       2688.349969 Edm =       16.15901273 NCalls =      5\n",
      "Info in <Minuit2>: MnSeedGenerator Initial state  \n",
      "  Minimum value : 2688.349969\n",
      "  Edm           : 16.15901273\n",
      "  Internal parameters:\t[     -1.114009875]\t\n",
      "  Internal gradient  :\t[     -2.282972596]\t\n",
      "  Internal covariance matrix:\n",
      "[[      12.401477]]]\n",
      "Info in <Minuit2>: VariableMetricBuilder Start iterating until Edm is < 0.0005 with call limit = 1000\n",
      "Info in <Minuit2>: VariableMetricBuilder    0 - FCN =       2688.349969 Edm =       16.15901273 NCalls =      5\n",
      "Info in <Minuit2>: VariableMetricBuilder    1 - FCN =       2686.134906 Edm =     0.00589573159 NCalls =     10\n",
      "Info in <Minuit2>: VariableMetricBuilder    2 - FCN =       2686.134779 Edm =   0.0001223492238 NCalls =     14\n",
      "Info in <Minuit2>: VariableMetricBuilder    3 - FCN =       2686.134775 Edm =   1.508665882e-10 NCalls =     17\n",
      "Info in <Minuit2>: MnFunctionCross Result after Migrad FCN =       2686.134775 Edm =   1.508665882e-10 NCalls =     17 \n",
      "  Pos |    Name    |  type   |      Value       |    Error +/-\n",
      "    0 |          f | limited |     0.6213231272 | 0.1254903583\n",
      "    1 |         s2 |  fixed  |      3.930646287 | 0.2783063939\n",
      "Info in <Minuit2>: MnFunctionCross Run Migrad again (2nd) with fixed parameters:\n",
      "  Pos 1: s2 = 4.19052\n",
      "Info in <Minuit2>: MnSeedGenerator Computing seed using NumericalGradient calculator\n",
      "Info in <Minuit2>: MnSeedGenerator Initial state: FCN =       2687.231725 Edm =       1.474496917 NCalls =      3\n",
      "Info in <Minuit2>: MnSeedGenerator Initial state  \n",
      "  Minimum value : 2687.231725\n",
      "  Edm           : 1.474496917\n",
      "  Internal parameters:\t[   -0.08202587313]\t\n",
      "  Internal gradient  :\t[     -4.666430597]\t\n",
      "  Internal covariance matrix:\n",
      "[[     0.27085337]]]\n",
      "Info in <Minuit2>: VariableMetricBuilder Start iterating until Edm is < 0.0005 with call limit = 1000\n",
      "Info in <Minuit2>: VariableMetricBuilder    0 - FCN =       2687.231725 Edm =       1.474496917 NCalls =      3\n",
      "Info in <Minuit2>: VariableMetricBuilder    1 - FCN =       2686.380016 Edm =   4.542829732e-05 NCalls =      7\n",
      "Info in <Minuit2>: MnFunctionCross Result after 2nd Migrad FCN =       2686.380016 Edm =   4.542829732e-05 NCalls =      7 \n",
      "  Pos |    Name    |  type   |      Value       |    Error +/-\n",
      "    0 |          f | limited |     0.7446032547 | 0.09161271824\n",
      "    1 |         s2 |  fixed  |      4.190515169 | 0.2783063939\n",
      "Info in <Minuit2>: MnFunctionCross Run Migrad again (3rd) with fixed parameters:\n",
      "  Pos 1: s2 = 4.31878\n",
      "Info in <Minuit2>: MnSeedGenerator Computing seed using NumericalGradient calculator\n",
      "Info in <Minuit2>: MnSeedGenerator Initial state: FCN =       2686.642981 Edm =      0.1437044596 NCalls =      3\n",
      "Info in <Minuit2>: MnSeedGenerator Initial state  \n",
      "  Minimum value : 2686.642981\n",
      "  Edm           : 0.1437044596\n",
      "  Internal parameters:\t[     0.2736994374]\t\n",
      "  Internal gradient  :\t[     -1.947094864]\t\n",
      "  Internal covariance matrix:\n",
      "[[     0.15161983]]]\n",
      "Info in <Minuit2>: VariableMetricBuilder Start iterating until Edm is < 0.0005 with call limit = 1000\n",
      "Info in <Minuit2>: VariableMetricBuilder    0 - FCN =       2686.642981 Edm =      0.1437044596 NCalls =      3\n",
      "Info in <Minuit2>: VariableMetricBuilder    1 - FCN =        2686.53326 Edm =   4.765767619e-08 NCalls =      7\n",
      "Info in <Minuit2>: MnFunctionCross Result after Migrad (3rd): FCN =        2686.53326 Edm =   4.765767619e-08 NCalls =      7 \n",
      "  Pos |    Name    |  type   |      Value       |    Error +/-\n",
      "    0 |          f | limited |     0.7819669353 | 0.07733137681\n",
      "    1 |         s2 |  fixed  |      4.318782108 | 0.2783063939\n",
      "Info in <Minuit2>: MnFunctionCross Run Migrad again at new point (#iter = 4 ):\n",
      "\t - parameter 1 fixed to 4.29325\n",
      "Info in <Minuit2>: MnSeedGenerator Computing seed using NumericalGradient calculator\n",
      "Info in <Minuit2>: MnSeedGenerator Initial state: FCN =       2686.504925 Edm =    0.003382031749 NCalls =      3\n",
      "Info in <Minuit2>: MnSeedGenerator Initial state  \n",
      "  Minimum value : 2686.504925\n",
      "  Edm           : 0.003382031749\n",
      "  Internal parameters:\t[     0.3866073999]\t\n",
      "  Internal gradient  :\t[     0.3414365596]\t\n",
      "  Internal covariance matrix:\n",
      "[[     0.11604265]]]\n",
      "Info in <Minuit2>: VariableMetricBuilder Start iterating until Edm is < 0.0005 with call limit = 1000\n",
      "Info in <Minuit2>: VariableMetricBuilder    0 - FCN =       2686.504925 Edm =    0.003382031749 NCalls =      3\n",
      "Info in <Minuit2>: VariableMetricBuilder    1 - FCN =       2686.501362 Edm =   9.982523261e-09 NCalls =      7\n",
      "Info in <Minuit2>: MnFunctionCross Result after new Migrad: FCN =       2686.501362 Edm =   9.982523261e-09 NCalls =      7 \n",
      "  Pos |    Name    |  type   |      Value       |    Error +/-\n",
      "    0 |          f | limited |     0.7751723911 | 0.07992574763\n",
      "    1 |         s2 |  fixed  |      4.293252501 | 0.2783063939\n",
      "Info in <Minuit2>: MnMinos end of Minos scan for up interval for parameter s2\n"
     ]
    }
   ],
   "source": [
    "# Call MINOS for the parameter “s2”\n",
    "minute_obj.minos({s2})\n",
    "\n",
    "# Display the values of parameters\n",
    "f.Print()\n",
    "mean.Print()\n",
    "s1.Print()\n",
    "s2.Print()"
   ]
  },
  {
   "cell_type": "markdown",
   "id": "6da560f1-f60f-4e11-a076-c4d74d529c72",
   "metadata": {},
   "source": [
    "Save Results"
   ]
  },
  {
   "cell_type": "code",
   "execution_count": 47,
   "id": "59b1c99a-1c1e-4545-a16f-b85076698a89",
   "metadata": {},
   "outputs": [
    {
     "name": "stdout",
     "output_type": "stream",
     "text": [
      "\n",
      "  RooFitResult: minimized FCN value: 2686, estimated distance to minimum: 0.0002206\n",
      "                covariance matrix quality: Full, accurate covariance matrix\n",
      "                Status : MIGRAD=0 MIGRAD=0 HESSE=0 MINOS=0 \n",
      "\n",
      "    Constant Parameter    Value     \n",
      "  --------------------  ------------\n",
      "                  mean    0.0000e+00\n",
      "                    s1    3.3000e+00\n",
      "\n",
      "    Floating Parameter  InitialValue    FinalValue (+HiError,-LoError)    GblCorr.\n",
      "  --------------------  ------------  ----------------------------------  --------\n",
      "                     f    5.0000e-01    3.0005e-01         +/-  3.50e-01  <none>\n",
      "                    s2    4.0000e+00    3.6523e+00 (+6.41e-01,-1.10e-01)  <none>\n",
      "\n"
     ]
    },
    {
     "name": "stderr",
     "output_type": "stream",
     "text": [
      "Warning in <TROOT::Append>: Replacing existing TH1: correlation_matrix (Potential memory leak).\n",
      "Warning in <TROOT::Append>: Replacing existing TH1: correlation_matrix (Potential memory leak).\n",
      "Info in <TCanvas::Print>: png file correlation_matrix.png has been created\n"
     ]
    }
   ],
   "source": [
    "# Save a snapshot of the fit result\n",
    "r = minute_obj.save()\n",
    "\n",
    "# Print the fit result snapshot\n",
    "r.Print(\"v\")\n",
    "\n",
    "\n",
    "\n",
    "# Set the color palette for the plot\n",
    "ROOT.gStyle.SetPalette(1)\n",
    "\n",
    "# Draw the correlation matrix of the fit result\n",
    "r.correlationHist().Draw(\"colz\")\n",
    "\n",
    "\n",
    "### EXTRAS \n",
    "# Create a canvas to draw the correlation matrix\n",
    "canvas = ROOT.TCanvas(\"canvas\", \"Correlation Matrix\", 800, 600)\n",
    "\n",
    "# Draw the correlation matrix of the fit result on the canvas and save it\n",
    "r.correlationHist().Draw(\"colz\")\n",
    "canvas.SaveAs(\"correlation_matrix.png\")\n",
    "\n",
    "# Save the correlation matrix to a ROOT file\n",
    "output_file = ROOT.TFile(\"correlation_matrix.root\", \"RECREATE\")\n",
    "r.correlationHist().Write(\"correlationMatrix\")\n",
    "output_file.Close()"
   ]
  },
  {
   "cell_type": "markdown",
   "id": "87dae0f1-80fe-440d-97df-c392b246e338",
   "metadata": {},
   "source": [
    "Contour plot"
   ]
  },
  {
   "cell_type": "code",
   "execution_count": null,
   "id": "8501f825-d9cc-4d58-ac9f-5069053ca5cb",
   "metadata": {},
   "outputs": [],
   "source": [
    "counter_plot = minute_obj.counnter(f, s2, 68, 95.45, 99.73)\n",
    "minute_obj.ErrorDef(0.5)  ## 0.5 for negative log likelihood (given in documentation)"
   ]
  },
  {
   "cell_type": "code",
   "execution_count": 1,
   "id": "f6c93b82-056d-4d3d-965b-885a68b365ba",
   "metadata": {},
   "outputs": [
    {
     "ename": "NameError",
     "evalue": "name 'ROOT' is not defined",
     "output_type": "error",
     "traceback": [
      "\u001b[0;31m---------------------------------------------------------------------------\u001b[0m",
      "\u001b[0;31mNameError\u001b[0m                                 Traceback (most recent call last)",
      "Cell \u001b[0;32mIn[1], line 1\u001b[0m\n\u001b[0;32m----> 1\u001b[0m x \u001b[38;5;241m=\u001b[39m \u001b[43mROOT\u001b[49m\u001b[38;5;241m.\u001b[39mRooRealVal(\u001b[38;5;124m\"\u001b[39m\u001b[38;5;124mx\u001b[39m\u001b[38;5;124m\"\u001b[39m, \u001b[38;5;124m\"\u001b[39m\u001b[38;5;124mx\u001b[39m\u001b[38;5;124m\"\u001b[39m, \u001b[38;5;241m1\u001b[39m, \u001b[38;5;241m0\u001b[39m, \u001b[38;5;241m10\u001b[39m)\n\u001b[1;32m      2\u001b[0m xframe \u001b[38;5;241m=\u001b[39m x\u001b[38;5;241m.\u001b[39mframe()\n\u001b[1;32m      3\u001b[0m model\u001b[38;5;241m.\u001b[39mplotOn(xframe)\n",
      "\u001b[0;31mNameError\u001b[0m: name 'ROOT' is not defined"
     ]
    }
   ],
   "source": [
    "x = ROOT.RooRealVal(\"x\", \"x\", 1, 0, 10)\n",
    "xframe = x.frame()\n",
    "model.plotOn(xframe)\n",
    "xframe.draw()\n",
    "\n"
   ]
  },
  {
   "cell_type": "markdown",
   "id": "26176eae-22ba-4f95-9b70-bc43e6da8b9c",
   "metadata": {},
   "source": [
    "[3] Hands-on: Composite Model; Working with Likelihoods  (ADVANCED) \n"
   ]
  },
  {
   "cell_type": "code",
   "execution_count": null,
   "id": "ad90c62a-3d7c-4ff4-946e-a5eae230b7a2",
   "metadata": {},
   "outputs": [],
   "source": [
    "# define the observable neutrino energy\n",
    "energy = ROOT.RooRealVar(\"E\", \"Reconstructed neutrino energy\", 0.5, 14, \"GeV\")\n",
    "\n",
    "# load the data\n"
   ]
  },
  {
   "cell_type": "code",
   "execution_count": null,
   "id": "51c34b5c-8410-4a0b-b1d9-79de8ca6ac17",
   "metadata": {},
   "outputs": [],
   "source": []
  },
  {
   "cell_type": "code",
   "execution_count": null,
   "id": "f1eed6c5-273b-4936-b2da-e0d35e13cb54",
   "metadata": {},
   "outputs": [],
   "source": []
  },
  {
   "cell_type": "code",
   "execution_count": null,
   "id": "1968172e-08df-4983-b940-22247b5176b4",
   "metadata": {},
   "outputs": [],
   "source": []
  },
  {
   "cell_type": "code",
   "execution_count": null,
   "id": "9219f482-4de0-48bd-b8a5-6913cc08795e",
   "metadata": {},
   "outputs": [],
   "source": []
  }
 ],
 "metadata": {
  "kernelspec": {
   "display_name": "Python 3 (ipykernel)",
   "language": "python",
   "name": "python3"
  },
  "language_info": {
   "codemirror_mode": {
    "name": "ipython",
    "version": 3
   },
   "file_extension": ".py",
   "mimetype": "text/x-python",
   "name": "python",
   "nbconvert_exporter": "python",
   "pygments_lexer": "ipython3",
   "version": "3.10.12"
  }
 },
 "nbformat": 4,
 "nbformat_minor": 5
}
