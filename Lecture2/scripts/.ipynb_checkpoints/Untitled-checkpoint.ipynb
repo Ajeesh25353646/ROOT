{
 "cells": [
  {
   "cell_type": "code",
   "execution_count": 5,
   "id": "ac0e5e9b-c7eb-46be-90c3-dd1cefb16007",
   "metadata": {},
   "outputs": [
    {
     "name": "stdout",
     "output_type": "stream",
     "text": [
      "6.34.00\n"
     ]
    }
   ],
   "source": [
    "import ROOT\n",
    "print(ROOT.__version__)"
   ]
  },
  {
   "cell_type": "code",
   "execution_count": null,
   "id": "9525a105-ef5b-4475-ba23-ec5c50e3113d",
   "metadata": {},
   "outputs": [],
   "source": []
  }
 ],
 "metadata": {
  "kernelspec": {
   "display_name": "Python 3 (ipykernel)",
   "language": "python",
   "name": "python3"
  },
  "language_info": {
   "codemirror_mode": {
    "name": "ipython",
    "version": 3
   },
   "file_extension": ".py",
   "mimetype": "text/x-python",
   "name": "python",
   "nbconvert_exporter": "python",
   "pygments_lexer": "ipython3",
   "version": "3.10.12"
  }
 },
 "nbformat": 4,
 "nbformat_minor": 5
}
