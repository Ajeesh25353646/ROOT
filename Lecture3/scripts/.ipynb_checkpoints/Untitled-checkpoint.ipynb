{
 "cells": [
  {
   "cell_type": "markdown",
   "id": "12b5afde-9f3c-41de-a1cc-225580d2e901",
   "metadata": {},
   "source": [
    "I am writting this code in C++ root as i tried my best to extract files using pyroot but the provided hints doesnt works at all for me to read the files"
   ]
  },
  {
   "cell_type": "code",
   "execution_count": null,
   "id": "f3f2c8fa-943f-4e3b-b6ef-5d2577b69177",
   "metadata": {},
   "outputs": [],
   "source": []
  }
 ],
 "metadata": {
  "kernelspec": {
   "display_name": "ROOT C++",
   "language": "c++",
   "name": "root"
  },
  "language_info": {
   "codemirror_mode": "text/x-c++src",
   "file_extension": ".C",
   "mimetype": " text/x-c++src",
   "name": "c++"
  }
 },
 "nbformat": 4,
 "nbformat_minor": 5
}
